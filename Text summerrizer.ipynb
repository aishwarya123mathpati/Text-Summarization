{
 "cells": [
  {
   "cell_type": "code",
   "execution_count": 1,
   "id": "e07ed3a0-6258-4890-8875-10ba5fa47e03",
   "metadata": {},
   "outputs": [],
   "source": [
    "# importing libraries \n",
    "import nltk \n",
    "from nltk.corpus import stopwords \n",
    "from nltk.tokenize import word_tokenize, sent_tokenize "
   ]
  },
  {
   "cell_type": "code",
   "execution_count": 2,
   "id": "2a046569-b7b0-45a4-b5af-6c94ed81a2ee",
   "metadata": {},
   "outputs": [],
   "source": [
    "# Input text - to summarize  \n",
    "text = \"\"\"Avul Pakir Jainulabdeen Abdul Kalam BR was an Indian aerospace scientist and statesman who served as the 11th\n",
    "president of India from 2002 to 2007. Born and raised in a Muslim family in Rameswaram, Tamil Nadu, he studied physics \n",
    "and aerospace engineering.He thus came to be known as the Missile Man of India for his work on the development of ballistic \n",
    "missile and launch vehicle technology. He also played a pivotal organisational, technical, and political role in India's \n",
    "Pokhran-II nuclear tests in 1998, the first since the original nuclear test by India in 1974.\"\"\""
   ]
  },
  {
   "cell_type": "code",
   "execution_count": 3,
   "id": "bd051fc1-e73a-4584-aaef-b60d3a145c39",
   "metadata": {},
   "outputs": [],
   "source": [
    "# Tokenizing the text \n",
    "stopWords = set(stopwords.words(\"english\")) \n",
    "words = word_tokenize(text) \n",
    "   \n",
    "# Creating a frequency table to keep the  \n",
    "# score of each word \n",
    "   \n",
    "freqTable = dict() \n",
    "for word in words: \n",
    "    word = word.lower() \n",
    "    if word in stopWords: \n",
    "        continue\n",
    "    if word in freqTable: \n",
    "        freqTable[word] += 1\n",
    "    else: \n",
    "        freqTable[word] = 1"
   ]
  },
  {
   "cell_type": "code",
   "execution_count": 4,
   "id": "a335179d-ed7b-404e-9ed2-4ca5f0068226",
   "metadata": {},
   "outputs": [],
   "source": [
    "# words"
   ]
  },
  {
   "cell_type": "code",
   "execution_count": 5,
   "id": "2fec591a-86e2-4f30-be77-0e350d6f0bfa",
   "metadata": {},
   "outputs": [],
   "source": [
    "# Creating a dictionary to keep the score \n",
    "# of each sentence \n",
    "sentences = sent_tokenize(text) \n",
    "sentenceValue = dict() \n",
    "   \n",
    "for sentence in sentences: \n",
    "    for word, freq in freqTable.items(): \n",
    "        if word in sentence.lower(): \n",
    "            if sentence in sentenceValue: \n",
    "                sentenceValue[sentence] += freq \n",
    "            else: \n",
    "                sentenceValue[sentence] = freq"
   ]
  },
  {
   "cell_type": "code",
   "execution_count": 13,
   "id": "8925b90e-eba9-4b11-b1aa-d0905ca7c081",
   "metadata": {},
   "outputs": [],
   "source": [
    "sumValues = 0\n",
    "for sentence in sentenceValue: \n",
    "    sumValues += sentenceValue[sentence] \n",
    "   \n",
    "# Average value of a sentence from the original text \n",
    "   \n",
    "average = int(sumValues / len(sentenceValue)) \n",
    "   \n",
    "# Storing sentences into our summary. \n",
    "summary = '' \n",
    "for sentence in sentences: \n",
    "    if (sentence in sentenceValue) and (sentenceValue[sentence] > (1.2 * average)): \n",
    "        summary += \" \" + sentence \n"
   ]
  },
  {
   "cell_type": "code",
   "execution_count": 17,
   "id": "ee09e90c-a7f3-41d7-af6c-90e18645c157",
   "metadata": {},
   "outputs": [
    {
     "name": "stdout",
     "output_type": "stream",
     "text": [
      "\n"
     ]
    }
   ],
   "source": [
    "print(summary)"
   ]
  },
  {
   "cell_type": "code",
   "execution_count": null,
   "id": "e70fb733-edbc-4b90-9385-7e3ab2b775f5",
   "metadata": {},
   "outputs": [],
   "source": []
  }
 ],
 "metadata": {
  "kernelspec": {
   "display_name": "Python 3 (ipykernel)",
   "language": "python",
   "name": "python3"
  },
  "language_info": {
   "codemirror_mode": {
    "name": "ipython",
    "version": 3
   },
   "file_extension": ".py",
   "mimetype": "text/x-python",
   "name": "python",
   "nbconvert_exporter": "python",
   "pygments_lexer": "ipython3",
   "version": "3.12.4"
  }
 },
 "nbformat": 4,
 "nbformat_minor": 5
}
